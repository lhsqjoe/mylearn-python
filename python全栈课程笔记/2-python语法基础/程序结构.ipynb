{
 "cells": [
  {
   "cell_type": "markdown",
   "metadata": {},
   "source": [
    "# 程序结构\n",
    " - 顺序\n",
    " - 循环\n",
    " - 分支"
   ]
  },
  {
   "cell_type": "markdown",
   "metadata": {},
   "source": [
    "## 顺序结构 略。。。不计了"
   ]
  },
  {
   "cell_type": "markdown",
   "metadata": {},
   "source": [
    "## 分支\n",
    " - if\n",
    " - if else "
   ]
  },
  {
   "cell_type": "code",
   "execution_count": 2,
   "metadata": {},
   "outputs": [
    {
     "name": "stdout",
     "output_type": "stream",
     "text": [
      "请输入：A\n",
      " is A\n"
     ]
    }
   ],
   "source": [
    "a = input(\"请输入：\")\n",
    "if a == 'A':\n",
    "    print(\" is A\")\n",
    "else:\n",
    "    print(\" not A\")"
   ]
  },
  {
   "cell_type": "markdown",
   "metadata": {},
   "source": [
    "## 多路分支"
   ]
  },
  {
   "cell_type": "code",
   "execution_count": 5,
   "metadata": {},
   "outputs": [
    {
     "name": "stdout",
     "output_type": "stream",
     "text": [
      "请输入成绩，必须是整数:75\n",
      "良2\n"
     ]
    }
   ],
   "source": [
    "score = input(\"请输入成绩，必须是整数:\")\n",
    "score = int(score)\n",
    "if score >=90:\n",
    "    print(\"优秀\")\n",
    "elif score >=80:\n",
    "    print(\"良\")\n",
    "elif score >=70:\n",
    "    print(\"良2\")\n",
    "elif score >=60:\n",
    "    print(\"良3\")\n",
    "else:\n",
    "    print(\"差,不及格\")"
   ]
  },
  {
   "cell_type": "markdown",
   "metadata": {},
   "source": [
    "## 循环\n",
    " - for\n",
    " - while"
   ]
  },
  {
   "cell_type": "code",
   "execution_count": 6,
   "metadata": {},
   "outputs": [
    {
     "name": "stdout",
     "output_type": "stream",
     "text": [
      "1\n",
      "2\n",
      "3\n",
      "4\n"
     ]
    }
   ],
   "source": [
    "list_one = [1,2,3,4]\n",
    "for n in list_one:\n",
    "    print(n)"
   ]
  },
  {
   "cell_type": "markdown",
   "metadata": {},
   "source": [
    "## for -else 语句"
   ]
  },
  {
   "cell_type": "code",
   "execution_count": 7,
   "metadata": {},
   "outputs": [
    {
     "name": "stdout",
     "output_type": "stream",
     "text": [
      "1\n",
      "2\n",
      "3\n",
      "4\n",
      "没有。。。\n"
     ]
    }
   ],
   "source": [
    "list_one = [1,2,3,4]\n",
    "for n in list_one:\n",
    "    print(n)\n",
    "else:\n",
    "    print(\"没有。。。\")"
   ]
  },
  {
   "cell_type": "markdown",
   "metadata": {},
   "source": [
    "## break continue pass\n",
    " - break 无条件结束\n",
    " - continue\n",
    " - pass "
   ]
  },
  {
   "cell_type": "markdown",
   "metadata": {},
   "source": [
    "## range 函数\n",
    " - 生成有序数列 左包括，右不包括"
   ]
  },
  {
   "cell_type": "code",
   "execution_count": 11,
   "metadata": {},
   "outputs": [
    {
     "name": "stdout",
     "output_type": "stream",
     "text": [
      "1\n",
      "2\n",
      "3\n",
      "4\n",
      "5\n",
      "6\n",
      "7\n",
      "8\n",
      "9\n"
     ]
    }
   ],
   "source": [
    "dig_list = range(1,10)\n",
    "for dig in dig_list:\n",
    "    print(dig)"
   ]
  },
  {
   "cell_type": "markdown",
   "metadata": {},
   "source": [
    "## while 循环\n",
    "    while 条件表达式：\n",
    "        语句块\n",
    "    else：\n",
    "        语句块"
   ]
  },
  {
   "cell_type": "code",
   "execution_count": null,
   "metadata": {},
   "outputs": [],
   "source": []
  }
 ],
 "metadata": {
  "kernelspec": {
   "display_name": "Python 3",
   "language": "python",
   "name": "python3"
  },
  "language_info": {
   "codemirror_mode": {
    "name": "ipython",
    "version": 3
   },
   "file_extension": ".py",
   "mimetype": "text/x-python",
   "name": "python",
   "nbconvert_exporter": "python",
   "pygments_lexer": "ipython3",
   "version": "3.7.3"
  }
 },
 "nbformat": 4,
 "nbformat_minor": 2
}
