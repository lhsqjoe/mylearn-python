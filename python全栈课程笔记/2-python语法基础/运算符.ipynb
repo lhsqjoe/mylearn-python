{
 "cells": [
  {
   "cell_type": "markdown",
   "metadata": {},
   "source": [
    "# 运算符 分类\n",
    "- 算术运算符\n",
    "- 比较或者关系运算符\n",
    "- 赋值运算符\n",
    "- 逻辑运算符\n",
    "- 位运算符\n",
    "- 成员运算符\n",
    "- 身份运算符"
   ]
  },
  {
   "cell_type": "markdown",
   "metadata": {},
   "source": [
    "## 算术运算符\n",
    " - python 没有自增，自减运算符\n",
    " - 除法"
   ]
  },
  {
   "cell_type": "code",
   "execution_count": 7,
   "metadata": {},
   "outputs": [
    {
     "name": "stdout",
     "output_type": "stream",
     "text": [
      "4.5\n",
      "4\n",
      "1\n",
      "-2.25\n",
      "-3\n"
     ]
    }
   ],
   "source": [
    "a = 9/2 # 正常除法\n",
    "print(a)\n",
    "b = 9//2 #地板除,取整\n",
    "print(b)\n",
    "c=9%2 #取余\n",
    "print(c)\n",
    "\n",
    "d = 9/-4 #除以负数\n",
    "print(d)\n",
    "\n",
    "e = 9%-4 \n",
    "print(e)"
   ]
  },
  {
   "cell_type": "code",
   "execution_count": 8,
   "metadata": {},
   "outputs": [
    {
     "name": "stdout",
     "output_type": "stream",
     "text": [
      "49\n"
     ]
    }
   ],
   "source": [
    "kk = 7**2\n",
    "print(kk)"
   ]
  },
  {
   "cell_type": "markdown",
   "metadata": {},
   "source": [
    "## 比较运算符"
   ]
  },
  {
   "cell_type": "code",
   "execution_count": 1,
   "metadata": {},
   "outputs": [
    {
     "name": "stdout",
     "output_type": "stream",
     "text": [
      "False\n"
     ]
    }
   ],
   "source": [
    "# ==\n",
    "a = 3==4\n",
    "print(a)"
   ]
  },
  {
   "cell_type": "code",
   "execution_count": 2,
   "metadata": {},
   "outputs": [
    {
     "name": "stdout",
     "output_type": "stream",
     "text": [
      "True\n"
     ]
    }
   ],
   "source": [
    "# !=\n",
    "a = 3!=4\n",
    "print(a)"
   ]
  },
  {
   "cell_type": "code",
   "execution_count": 3,
   "metadata": {},
   "outputs": [],
   "source": [
    "# > >= < <="
   ]
  },
  {
   "cell_type": "markdown",
   "metadata": {},
   "source": [
    "# 赋值运算符\n",
    "- 优先级比较低"
   ]
  },
  {
   "cell_type": "code",
   "execution_count": 7,
   "metadata": {},
   "outputs": [
    {
     "name": "stdout",
     "output_type": "stream",
     "text": [
      "9 9\n",
      "2 3\n",
      "3\n"
     ]
    }
   ],
   "source": [
    "a=b=9\n",
    "print(a,b)\n",
    "a,b=2,3\n",
    "print(a,b)\n",
    "cc = 0\n",
    "cc = cc+3\n",
    "print(cc)"
   ]
  },
  {
   "cell_type": "markdown",
   "metadata": {},
   "source": [
    "## 逻辑运算符\n",
    "- and\n",
    "- or\n",
    "- not \n",
    "- 没有异或\n",
    "- 运算规则"
   ]
  },
  {
   "cell_type": "code",
   "execution_count": 10,
   "metadata": {},
   "outputs": [
    {
     "name": "stdout",
     "output_type": "stream",
     "text": [
      "True\n",
      "False\n",
      "False\n"
     ]
    }
   ],
   "source": [
    "a =  True\n",
    "b = True\n",
    "c = False\n",
    "\n",
    "aa = a and b \n",
    "print(aa)\n",
    "\n",
    "bb = a and c\n",
    "print(bb)\n",
    "\n",
    "cc = 100 and c\n",
    "print(cc)"
   ]
  },
  {
   "cell_type": "code",
   "execution_count": 13,
   "metadata": {},
   "outputs": [
    {
     "name": "stdout",
     "output_type": "stream",
     "text": [
      "AAAAAAAA\n",
      "BBBBBBB\n",
      "True\n",
      "********************\n",
      "AAAAAAAA\n",
      "True\n"
     ]
    }
   ],
   "source": [
    "# 短路问题\n",
    "def a():\n",
    "    print(\"AAAAAAAA\")\n",
    "    return True\n",
    "\n",
    "def b():\n",
    "    print(\"BBBBBBB\")\n",
    "    return True\n",
    "\n",
    "aaa = a() and b()\n",
    "print(aaa)\n",
    "print(\"*\"*20)\n",
    "bbb = a() or b()\n",
    "print(bbb)"
   ]
  },
  {
   "cell_type": "markdown",
   "metadata": {},
   "source": [
    "## 成员运算符\n",
    "  - in\n",
    "  - not in\n",
    "  "
   ]
  },
  {
   "cell_type": "code",
   "execution_count": 15,
   "metadata": {},
   "outputs": [
    {
     "name": "stdout",
     "output_type": "stream",
     "text": [
      "False\n",
      "True\n"
     ]
    }
   ],
   "source": [
    "# in 案例\n",
    "L = [1,2,3,4]\n",
    "a = 6 \n",
    "print(a in L)\n",
    "print(a not in L)"
   ]
  },
  {
   "cell_type": "markdown",
   "metadata": {},
   "source": [
    "## 身份运算符\n",
    " - 用来确定两个变量是否是同一变量\n",
    " - is\n",
    " - is not"
   ]
  },
  {
   "cell_type": "code",
   "execution_count": 16,
   "metadata": {},
   "outputs": [
    {
     "name": "stdout",
     "output_type": "stream",
     "text": [
      "False\n"
     ]
    }
   ],
   "source": [
    "a = 1\n",
    "b = 198888888\n",
    "print(a is b)"
   ]
  },
  {
   "cell_type": "code",
   "execution_count": 17,
   "metadata": {},
   "outputs": [
    {
     "name": "stdout",
     "output_type": "stream",
     "text": [
      "False\n"
     ]
    }
   ],
   "source": [
    "a = 19888\n",
    "b = 19888\n",
    "print(a is b)"
   ]
  },
  {
   "cell_type": "code",
   "execution_count": 18,
   "metadata": {},
   "outputs": [
    {
     "name": "stdout",
     "output_type": "stream",
     "text": [
      "True\n"
     ]
    }
   ],
   "source": [
    "a = 5\n",
    "b = 5\n",
    "print(a is b) # 比较奇怪"
   ]
  },
  {
   "cell_type": "markdown",
   "metadata": {},
   "source": [
    "## 运算符的优先级\n",
    " - () 具有最高优先级\n",
    " - **\t指数 (最高优先级)\n",
    " - ~ + -\t按位翻转, 一元加号和减号 (最后两个的方法名为 +@ 和 -@)\n",
    " - * / % //\t乘，除，取模和取整除\n",
    " - + -\t加法减法\n",
    " -  额 额 额>> <<\t右移，左移运算符\n",
    " - &\t位 'AND'\n",
    " - ^ |\t位运算符\n",
    " - <= < > >=\t比较运算符\n",
    " - <> == !=\t等于运算符\n",
    " - = %= /= //= -= += *= **=\t赋值运算符\n",
    " - is is not\t身份运算符\n",
    " - in not in\t成员运算符\n",
    " - not and or\t逻辑运算符"
   ]
  },
  {
   "cell_type": "code",
   "execution_count": null,
   "metadata": {},
   "outputs": [],
   "source": []
  }
 ],
 "metadata": {
  "kernelspec": {
   "display_name": "Python 3",
   "language": "python",
   "name": "python3"
  },
  "language_info": {
   "codemirror_mode": {
    "name": "ipython",
    "version": 3
   },
   "file_extension": ".py",
   "mimetype": "text/x-python",
   "name": "python",
   "nbconvert_exporter": "python",
   "pygments_lexer": "ipython3",
   "version": "3.7.3"
  }
 },
 "nbformat": 4,
 "nbformat_minor": 2
}
