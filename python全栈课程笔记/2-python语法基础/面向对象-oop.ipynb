{
 "cells": [
  {
   "cell_type": "markdown",
   "metadata": {},
   "source": [
    "# 面向对象\n",
    " - 模块化思想\n",
    " - 面向对象 vs 面向过程\n",
    " \n",
    " - 专有名词\n",
    "  - OO\n",
    "  - ooa 分析\n",
    "  - ood 设计\n",
    "  - oop 编程\n",
    "  - ooI 实现\n",
    "- 定义 class"
   ]
  },
  {
   "cell_type": "code",
   "execution_count": 4,
   "metadata": {},
   "outputs": [],
   "source": [
    "class Student():\n",
    "    pass"
   ]
  },
  {
   "cell_type": "code",
   "execution_count": 6,
   "metadata": {},
   "outputs": [],
   "source": [
    "xiaobai = Student() # 实例化"
   ]
  },
  {
   "cell_type": "markdown",
   "metadata": {},
   "source": [
    "## self "
   ]
  },
  {
   "cell_type": "code",
   "execution_count": 32,
   "metadata": {},
   "outputs": [],
   "source": [
    "class Stu():\n",
    "    name = \"zhangsan\"\n",
    "    age = 19\n",
    "    \n",
    "    def sayHi(self,n,a):\n",
    "        self.name = n\n",
    "        self .age = a\n",
    "        print(\"name:{} age:{}\".format(self.name,self.age))\n",
    "        return None\n",
    "    \n",
    "    def sos():\n",
    "        print(\"name:{} age:{}\".format(Stu.name,__class__.age))# 访问类的属性\n",
    "        return None\n",
    "        \n",
    "    \n",
    "\n"
   ]
  },
  {
   "cell_type": "code",
   "execution_count": 23,
   "metadata": {},
   "outputs": [
    {
     "name": "stdout",
     "output_type": "stream",
     "text": [
      "name:lisi age:20\n"
     ]
    }
   ],
   "source": [
    "myStu1 = Stu()\n",
    "myStu1.sayHi(\"lisi\",20)"
   ]
  },
  {
   "cell_type": "code",
   "execution_count": 24,
   "metadata": {},
   "outputs": [
    {
     "name": "stdout",
     "output_type": "stream",
     "text": [
      "name:lisi age:20\n"
     ]
    }
   ],
   "source": [
    "print(\"name:{} age:{}\".format(myStu1.name,myStu1.age))"
   ]
  },
  {
   "cell_type": "code",
   "execution_count": 25,
   "metadata": {},
   "outputs": [
    {
     "name": "stdout",
     "output_type": "stream",
     "text": [
      "name:zhangsan age:19\n"
     ]
    }
   ],
   "source": [
    "print(\"name:{} age:{}\".format(Stu.name,Stu.age))"
   ]
  },
  {
   "cell_type": "markdown",
   "metadata": {},
   "source": [
    "- 访问实例的属性，如果没有定义，则自动访问类的属性，如果类也没有定义，则 报错"
   ]
  },
  {
   "cell_type": "code",
   "execution_count": 33,
   "metadata": {},
   "outputs": [
    {
     "name": "stdout",
     "output_type": "stream",
     "text": [
      "name:zhangsan age:19\n"
     ]
    }
   ],
   "source": [
    "Stu.sos()"
   ]
  },
  {
   "cell_type": "markdown",
   "metadata": {},
   "source": [
    "## 构造函数\n",
    " - 执行一些初始化的工作\n",
    " - 使用特殊的名称和写法\n",
    " - 在实例化的时候自动执行\n",
    " - 在实例化的时候第一个被执行"
   ]
  },
  {
   "cell_type": "code",
   "execution_count": 34,
   "metadata": {},
   "outputs": [
    {
     "name": "stdout",
     "output_type": "stream",
     "text": [
      "我是构造函数\n"
     ]
    }
   ],
   "source": [
    "class myStu():\n",
    "    name = \"noNmae\"\n",
    "    age = 0\n",
    "    \n",
    "    def __init__(self):\n",
    "        print(\"我是构造函数\")\n",
    "\n",
    "        \n",
    "\n",
    "mStu1 = myStu()        \n",
    "    "
   ]
  },
  {
   "cell_type": "markdown",
   "metadata": {},
   "source": [
    "## 面向对象的三大特征\n",
    " - 继承 issubclass\n",
    " - 封装\n",
    " - 多态"
   ]
  },
  {
   "cell_type": "code",
   "execution_count": 37,
   "metadata": {},
   "outputs": [
    {
     "name": "stdout",
     "output_type": "stream",
     "text": [
      "True\n"
     ]
    }
   ],
   "source": [
    "class Person():\n",
    "    name = \"noName\"\n",
    "    age = 0\n",
    "\n",
    "class Teacher(Person):\n",
    "    pass\n",
    "\n",
    "# 一个子类可以有多个父类 \n",
    "\n",
    "print(issubclass(Teacher,Person))"
   ]
  },
  {
   "cell_type": "code",
   "execution_count": null,
   "metadata": {},
   "outputs": [],
   "source": []
  }
 ],
 "metadata": {
  "kernelspec": {
   "display_name": "Python 3",
   "language": "python",
   "name": "python3"
  },
  "language_info": {
   "codemirror_mode": {
    "name": "ipython",
    "version": 3
   },
   "file_extension": ".py",
   "mimetype": "text/x-python",
   "name": "python",
   "nbconvert_exporter": "python",
   "pygments_lexer": "ipython3",
   "version": "3.7.3"
  }
 },
 "nbformat": 4,
 "nbformat_minor": 2
}
