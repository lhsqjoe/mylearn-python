{
 "cells": [
  {
   "cell_type": "markdown",
   "metadata": {},
   "source": [
    "# 面向对象\n",
    " - 模块化思想\n",
    " - 面向对象 vs 面向过程\n",
    " \n",
    " - 专有名词\n",
    "  - OO\n",
    "  - ooa 分析\n",
    "  - ood 设计\n",
    "  - oop 编程\n",
    "  - ooI 实现\n",
    "- 定义 class"
   ]
  },
  {
   "cell_type": "code",
   "execution_count": 4,
   "metadata": {},
   "outputs": [],
   "source": [
    "class Student():\n",
    "    pass"
   ]
  },
  {
   "cell_type": "code",
   "execution_count": 6,
   "metadata": {},
   "outputs": [],
   "source": [
    "xiaobai = Student() # 实例化"
   ]
  },
  {
   "cell_type": "markdown",
   "metadata": {},
   "source": [
    "## self "
   ]
  },
  {
   "cell_type": "code",
   "execution_count": 22,
   "metadata": {},
   "outputs": [],
   "source": [
    "class Stu():\n",
    "    name = \"zhangsan\"\n",
    "    age = 19\n",
    "    \n",
    "    def sayHi(self,n,a):\n",
    "        self.name = n\n",
    "        self .age = a\n",
    "        print(\"name:{} age:{}\".format(self.name,self.age))\n",
    "        return None\n",
    "    \n",
    "    def sos():\n",
    "        print(\"name:{} age:{}\".format(self.name,self.age))\n",
    "        return None\n",
    "        \n",
    "    \n",
    "\n"
   ]
  },
  {
   "cell_type": "code",
   "execution_count": 23,
   "metadata": {},
   "outputs": [
    {
     "name": "stdout",
     "output_type": "stream",
     "text": [
      "name:lisi age:20\n"
     ]
    }
   ],
   "source": [
    "myStu1 = Stu()\n",
    "myStu1.sayHi(\"lisi\",20)"
   ]
  },
  {
   "cell_type": "code",
   "execution_count": 24,
   "metadata": {},
   "outputs": [
    {
     "name": "stdout",
     "output_type": "stream",
     "text": [
      "name:lisi age:20\n"
     ]
    }
   ],
   "source": [
    "print(\"name:{} age:{}\".format(myStu1.name,myStu1.age))"
   ]
  },
  {
   "cell_type": "code",
   "execution_count": 25,
   "metadata": {},
   "outputs": [
    {
     "name": "stdout",
     "output_type": "stream",
     "text": [
      "name:zhangsan age:19\n"
     ]
    }
   ],
   "source": [
    "print(\"name:{} age:{}\".format(Stu.name,Stu.age))"
   ]
  },
  {
   "cell_type": "markdown",
   "metadata": {},
   "source": [
    "- 访问实例的属性，如果没有定义，则自动访问类的属性，如果类也没有定义，则 报错"
   ]
  },
  {
   "cell_type": "code",
   "execution_count": 27,
   "metadata": {},
   "outputs": [
    {
     "ename": "TypeError",
     "evalue": "sos() missing 1 required positional argument: 'self'",
     "output_type": "error",
     "traceback": [
      "\u001b[1;31m---------------------------------------------------------------------------\u001b[0m",
      "\u001b[1;31mTypeError\u001b[0m                                 Traceback (most recent call last)",
      "\u001b[1;32m<ipython-input-27-fca56d4d925a>\u001b[0m in \u001b[0;36m<module>\u001b[1;34m\u001b[0m\n\u001b[1;32m----> 1\u001b[1;33m \u001b[0mStu\u001b[0m\u001b[1;33m.\u001b[0m\u001b[0msos\u001b[0m\u001b[1;33m(\u001b[0m\u001b[1;33m)\u001b[0m\u001b[1;33m\u001b[0m\u001b[1;33m\u001b[0m\u001b[0m\n\u001b[0m",
      "\u001b[1;31mTypeError\u001b[0m: sos() missing 1 required positional argument: 'self'"
     ]
    }
   ],
   "source": [
    "Stu.sos()"
   ]
  },
  {
   "cell_type": "code",
   "execution_count": null,
   "metadata": {},
   "outputs": [],
   "source": []
  }
 ],
 "metadata": {
  "kernelspec": {
   "display_name": "Python 3",
   "language": "python",
   "name": "python3"
  },
  "language_info": {
   "codemirror_mode": {
    "name": "ipython",
    "version": 3
   },
   "file_extension": ".py",
   "mimetype": "text/x-python",
   "name": "python",
   "nbconvert_exporter": "python",
   "pygments_lexer": "ipython3",
   "version": "3.7.3"
  }
 },
 "nbformat": 4,
 "nbformat_minor": 2
}
